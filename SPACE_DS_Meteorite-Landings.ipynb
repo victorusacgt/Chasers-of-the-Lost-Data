{
 "cells": [
  {
   "cell_type": "markdown",
   "metadata": {},
   "source": [
    "# Space Apps Challenge 2019\n",
    "\n",
    "# Planets Near and Far\n",
    "\n",
    "## Chasers of the Lost Data\n",
    "##### https://2019.spaceappschallenge.org/challenges/planets-near-and-far/raiders-lost-data/details"
   ]
  },
  {
   "cell_type": "markdown",
   "metadata": {},
   "source": [
    "## Group: ARCADE GT\n",
    "### Project: SPACE DS\n",
    "### Data Set: Meteorite Landings\n",
    "\n",
    "##### https://2019.spaceappschallenge.org/challenges/planets-near-and-far/raiders-lost-data/teams/arcade-gt/project"
   ]
  },
  {
   "cell_type": "code",
   "execution_count": 1,
   "metadata": {},
   "outputs": [
    {
     "name": "stderr",
     "output_type": "stream",
     "text": [
      "Using TensorFlow backend.\n"
     ]
    }
   ],
   "source": [
    "import os\n",
    "from sklearn.impute import SimpleImputer\n",
    "import impyute as impy\n",
    "import numpy as np, pandas as pd, tensorflow as tf, matplotlib.pyplot as plt\n",
    "from sklearn.model_selection import train_test_split\n",
    "from sklearn.model_selection import RandomizedSearchCV\n",
    "from keras.models import Sequential\n",
    "from keras.layers import Dense, BatchNormalization\n",
    "from keras.optimizers import Adam\n",
    "from keras.utils import to_categorical\n",
    "from keras.callbacks import EarlyStopping, ModelCheckpoint\n",
    "from keras.wrappers.scikit_learn import KerasClassifier\n",
    "import seaborn as sns\n",
    "from sklearn.preprocessing import LabelEncoder\n",
    "from keras.models import load_model"
   ]
  },
  {
   "cell_type": "code",
   "execution_count": 2,
   "metadata": {},
   "outputs": [],
   "source": [
    "df_3 = pd.read_csv(\"NASA/Meteorite_Landings.csv\", encoding = \"latin-1\") #Load the Data\n"
   ]
  },
  {
   "cell_type": "markdown",
   "metadata": {},
   "source": [
    "##### *First Step: See the data*"
   ]
  },
  {
   "cell_type": "code",
   "execution_count": 3,
   "metadata": {},
   "outputs": [
    {
     "data": {
      "text/html": [
       "<div>\n",
       "<style scoped>\n",
       "    .dataframe tbody tr th:only-of-type {\n",
       "        vertical-align: middle;\n",
       "    }\n",
       "\n",
       "    .dataframe tbody tr th {\n",
       "        vertical-align: top;\n",
       "    }\n",
       "\n",
       "    .dataframe thead th {\n",
       "        text-align: right;\n",
       "    }\n",
       "</style>\n",
       "<table border=\"1\" class=\"dataframe\">\n",
       "  <thead>\n",
       "    <tr style=\"text-align: right;\">\n",
       "      <th></th>\n",
       "      <th>name</th>\n",
       "      <th>id</th>\n",
       "      <th>nametype</th>\n",
       "      <th>recclass</th>\n",
       "      <th>mass (g)</th>\n",
       "      <th>fall</th>\n",
       "      <th>year</th>\n",
       "      <th>reclat</th>\n",
       "      <th>reclong</th>\n",
       "      <th>GeoLocation</th>\n",
       "    </tr>\n",
       "  </thead>\n",
       "  <tbody>\n",
       "    <tr>\n",
       "      <th>0</th>\n",
       "      <td>Aachen</td>\n",
       "      <td>1</td>\n",
       "      <td>Valid</td>\n",
       "      <td>L5</td>\n",
       "      <td>21.0</td>\n",
       "      <td>Fell</td>\n",
       "      <td>01/01/1880 12:00:00 AM</td>\n",
       "      <td>50.77500</td>\n",
       "      <td>6.08333</td>\n",
       "      <td>(50.775, 6.08333)</td>\n",
       "    </tr>\n",
       "    <tr>\n",
       "      <th>1</th>\n",
       "      <td>Aarhus</td>\n",
       "      <td>2</td>\n",
       "      <td>Valid</td>\n",
       "      <td>H6</td>\n",
       "      <td>720.0</td>\n",
       "      <td>Fell</td>\n",
       "      <td>01/01/1951 12:00:00 AM</td>\n",
       "      <td>56.18333</td>\n",
       "      <td>10.23333</td>\n",
       "      <td>(56.18333, 10.23333)</td>\n",
       "    </tr>\n",
       "    <tr>\n",
       "      <th>2</th>\n",
       "      <td>Abee</td>\n",
       "      <td>6</td>\n",
       "      <td>Valid</td>\n",
       "      <td>EH4</td>\n",
       "      <td>107000.0</td>\n",
       "      <td>Fell</td>\n",
       "      <td>01/01/1952 12:00:00 AM</td>\n",
       "      <td>54.21667</td>\n",
       "      <td>-113.00000</td>\n",
       "      <td>(54.21667, -113.0)</td>\n",
       "    </tr>\n",
       "    <tr>\n",
       "      <th>3</th>\n",
       "      <td>Acapulco</td>\n",
       "      <td>10</td>\n",
       "      <td>Valid</td>\n",
       "      <td>Acapulcoite</td>\n",
       "      <td>1914.0</td>\n",
       "      <td>Fell</td>\n",
       "      <td>01/01/1976 12:00:00 AM</td>\n",
       "      <td>16.88333</td>\n",
       "      <td>-99.90000</td>\n",
       "      <td>(16.88333, -99.9)</td>\n",
       "    </tr>\n",
       "    <tr>\n",
       "      <th>4</th>\n",
       "      <td>Achiras</td>\n",
       "      <td>370</td>\n",
       "      <td>Valid</td>\n",
       "      <td>L6</td>\n",
       "      <td>780.0</td>\n",
       "      <td>Fell</td>\n",
       "      <td>01/01/1902 12:00:00 AM</td>\n",
       "      <td>-33.16667</td>\n",
       "      <td>-64.95000</td>\n",
       "      <td>(-33.16667, -64.95)</td>\n",
       "    </tr>\n",
       "    <tr>\n",
       "      <th>5</th>\n",
       "      <td>Adhi Kot</td>\n",
       "      <td>379</td>\n",
       "      <td>Valid</td>\n",
       "      <td>EH4</td>\n",
       "      <td>4239.0</td>\n",
       "      <td>Fell</td>\n",
       "      <td>01/01/1919 12:00:00 AM</td>\n",
       "      <td>32.10000</td>\n",
       "      <td>71.80000</td>\n",
       "      <td>(32.1, 71.8)</td>\n",
       "    </tr>\n",
       "    <tr>\n",
       "      <th>6</th>\n",
       "      <td>Adzhi-Bogdo (stone)</td>\n",
       "      <td>390</td>\n",
       "      <td>Valid</td>\n",
       "      <td>LL3-6</td>\n",
       "      <td>910.0</td>\n",
       "      <td>Fell</td>\n",
       "      <td>01/01/1949 12:00:00 AM</td>\n",
       "      <td>44.83333</td>\n",
       "      <td>95.16667</td>\n",
       "      <td>(44.83333, 95.16667)</td>\n",
       "    </tr>\n",
       "    <tr>\n",
       "      <th>7</th>\n",
       "      <td>Agen</td>\n",
       "      <td>392</td>\n",
       "      <td>Valid</td>\n",
       "      <td>H5</td>\n",
       "      <td>30000.0</td>\n",
       "      <td>Fell</td>\n",
       "      <td>01/01/1814 12:00:00 AM</td>\n",
       "      <td>44.21667</td>\n",
       "      <td>0.61667</td>\n",
       "      <td>(44.21667, 0.61667)</td>\n",
       "    </tr>\n",
       "    <tr>\n",
       "      <th>8</th>\n",
       "      <td>Aguada</td>\n",
       "      <td>398</td>\n",
       "      <td>Valid</td>\n",
       "      <td>L6</td>\n",
       "      <td>1620.0</td>\n",
       "      <td>Fell</td>\n",
       "      <td>01/01/1930 12:00:00 AM</td>\n",
       "      <td>-31.60000</td>\n",
       "      <td>-65.23333</td>\n",
       "      <td>(-31.6, -65.23333)</td>\n",
       "    </tr>\n",
       "    <tr>\n",
       "      <th>9</th>\n",
       "      <td>Aguila Blanca</td>\n",
       "      <td>417</td>\n",
       "      <td>Valid</td>\n",
       "      <td>L</td>\n",
       "      <td>1440.0</td>\n",
       "      <td>Fell</td>\n",
       "      <td>01/01/1920 12:00:00 AM</td>\n",
       "      <td>-30.86667</td>\n",
       "      <td>-64.55000</td>\n",
       "      <td>(-30.86667, -64.55)</td>\n",
       "    </tr>\n",
       "    <tr>\n",
       "      <th>10</th>\n",
       "      <td>Aioun el Atrouss</td>\n",
       "      <td>423</td>\n",
       "      <td>Valid</td>\n",
       "      <td>Diogenite-pm</td>\n",
       "      <td>1000.0</td>\n",
       "      <td>Fell</td>\n",
       "      <td>01/01/1974 12:00:00 AM</td>\n",
       "      <td>16.39806</td>\n",
       "      <td>-9.57028</td>\n",
       "      <td>(16.39806, -9.57028)</td>\n",
       "    </tr>\n",
       "    <tr>\n",
       "      <th>11</th>\n",
       "      <td>AÃ¯r</td>\n",
       "      <td>424</td>\n",
       "      <td>Valid</td>\n",
       "      <td>L6</td>\n",
       "      <td>24000.0</td>\n",
       "      <td>Fell</td>\n",
       "      <td>01/01/1925 12:00:00 AM</td>\n",
       "      <td>19.08333</td>\n",
       "      <td>8.38333</td>\n",
       "      <td>(19.08333, 8.38333)</td>\n",
       "    </tr>\n",
       "    <tr>\n",
       "      <th>12</th>\n",
       "      <td>Aire-sur-la-Lys</td>\n",
       "      <td>425</td>\n",
       "      <td>Valid</td>\n",
       "      <td>Unknown</td>\n",
       "      <td>NaN</td>\n",
       "      <td>Fell</td>\n",
       "      <td>01/01/1769 12:00:00 AM</td>\n",
       "      <td>50.66667</td>\n",
       "      <td>2.33333</td>\n",
       "      <td>(50.66667, 2.33333)</td>\n",
       "    </tr>\n",
       "    <tr>\n",
       "      <th>13</th>\n",
       "      <td>Akaba</td>\n",
       "      <td>426</td>\n",
       "      <td>Valid</td>\n",
       "      <td>L6</td>\n",
       "      <td>779.0</td>\n",
       "      <td>Fell</td>\n",
       "      <td>01/01/1949 12:00:00 AM</td>\n",
       "      <td>29.51667</td>\n",
       "      <td>35.05000</td>\n",
       "      <td>(29.51667, 35.05)</td>\n",
       "    </tr>\n",
       "    <tr>\n",
       "      <th>14</th>\n",
       "      <td>Akbarpur</td>\n",
       "      <td>427</td>\n",
       "      <td>Valid</td>\n",
       "      <td>H4</td>\n",
       "      <td>1800.0</td>\n",
       "      <td>Fell</td>\n",
       "      <td>01/01/1838 12:00:00 AM</td>\n",
       "      <td>29.71667</td>\n",
       "      <td>77.95000</td>\n",
       "      <td>(29.71667, 77.95)</td>\n",
       "    </tr>\n",
       "    <tr>\n",
       "      <th>15</th>\n",
       "      <td>Akwanga</td>\n",
       "      <td>432</td>\n",
       "      <td>Valid</td>\n",
       "      <td>H</td>\n",
       "      <td>3000.0</td>\n",
       "      <td>Fell</td>\n",
       "      <td>01/01/1959 12:00:00 AM</td>\n",
       "      <td>8.91667</td>\n",
       "      <td>8.43333</td>\n",
       "      <td>(8.91667, 8.43333)</td>\n",
       "    </tr>\n",
       "    <tr>\n",
       "      <th>16</th>\n",
       "      <td>Akyumak</td>\n",
       "      <td>433</td>\n",
       "      <td>Valid</td>\n",
       "      <td>Iron, IVA</td>\n",
       "      <td>50000.0</td>\n",
       "      <td>Fell</td>\n",
       "      <td>01/01/1981 12:00:00 AM</td>\n",
       "      <td>39.91667</td>\n",
       "      <td>42.81667</td>\n",
       "      <td>(39.91667, 42.81667)</td>\n",
       "    </tr>\n",
       "    <tr>\n",
       "      <th>17</th>\n",
       "      <td>Al Rais</td>\n",
       "      <td>446</td>\n",
       "      <td>Valid</td>\n",
       "      <td>CR2-an</td>\n",
       "      <td>160.0</td>\n",
       "      <td>Fell</td>\n",
       "      <td>01/01/1957 12:00:00 AM</td>\n",
       "      <td>24.41667</td>\n",
       "      <td>39.51667</td>\n",
       "      <td>(24.41667, 39.51667)</td>\n",
       "    </tr>\n",
       "    <tr>\n",
       "      <th>18</th>\n",
       "      <td>Al Zarnkh</td>\n",
       "      <td>447</td>\n",
       "      <td>Valid</td>\n",
       "      <td>LL5</td>\n",
       "      <td>700.0</td>\n",
       "      <td>Fell</td>\n",
       "      <td>01/01/2001 12:00:00 AM</td>\n",
       "      <td>13.66033</td>\n",
       "      <td>28.96000</td>\n",
       "      <td>(13.66033, 28.96)</td>\n",
       "    </tr>\n",
       "    <tr>\n",
       "      <th>19</th>\n",
       "      <td>Alais</td>\n",
       "      <td>448</td>\n",
       "      <td>Valid</td>\n",
       "      <td>CI1</td>\n",
       "      <td>6000.0</td>\n",
       "      <td>Fell</td>\n",
       "      <td>01/01/1806 12:00:00 AM</td>\n",
       "      <td>44.11667</td>\n",
       "      <td>4.08333</td>\n",
       "      <td>(44.11667, 4.08333)</td>\n",
       "    </tr>\n",
       "    <tr>\n",
       "      <th>20</th>\n",
       "      <td>Albareto</td>\n",
       "      <td>453</td>\n",
       "      <td>Valid</td>\n",
       "      <td>L/LL4</td>\n",
       "      <td>2000.0</td>\n",
       "      <td>Fell</td>\n",
       "      <td>01/01/1766 12:00:00 AM</td>\n",
       "      <td>44.65000</td>\n",
       "      <td>11.01667</td>\n",
       "      <td>(44.65, 11.01667)</td>\n",
       "    </tr>\n",
       "    <tr>\n",
       "      <th>21</th>\n",
       "      <td>Alberta</td>\n",
       "      <td>454</td>\n",
       "      <td>Valid</td>\n",
       "      <td>L</td>\n",
       "      <td>625.0</td>\n",
       "      <td>Fell</td>\n",
       "      <td>01/01/1949 12:00:00 AM</td>\n",
       "      <td>2.00000</td>\n",
       "      <td>22.66667</td>\n",
       "      <td>(2.0, 22.66667)</td>\n",
       "    </tr>\n",
       "    <tr>\n",
       "      <th>22</th>\n",
       "      <td>Alby sur ChÃ©ran</td>\n",
       "      <td>458</td>\n",
       "      <td>Valid</td>\n",
       "      <td>Eucrite-mmict</td>\n",
       "      <td>252.0</td>\n",
       "      <td>Fell</td>\n",
       "      <td>01/01/2002 12:00:00 AM</td>\n",
       "      <td>45.82133</td>\n",
       "      <td>6.01533</td>\n",
       "      <td>(45.82133, 6.01533)</td>\n",
       "    </tr>\n",
       "    <tr>\n",
       "      <th>23</th>\n",
       "      <td>Aldsworth</td>\n",
       "      <td>461</td>\n",
       "      <td>Valid</td>\n",
       "      <td>LL5</td>\n",
       "      <td>700.0</td>\n",
       "      <td>Fell</td>\n",
       "      <td>01/01/1835 12:00:00 AM</td>\n",
       "      <td>51.78333</td>\n",
       "      <td>-1.78333</td>\n",
       "      <td>(51.78333, -1.78333)</td>\n",
       "    </tr>\n",
       "    <tr>\n",
       "      <th>24</th>\n",
       "      <td>Aleppo</td>\n",
       "      <td>462</td>\n",
       "      <td>Valid</td>\n",
       "      <td>L6</td>\n",
       "      <td>3200.0</td>\n",
       "      <td>Fell</td>\n",
       "      <td>01/01/1873 12:00:00 AM</td>\n",
       "      <td>36.23333</td>\n",
       "      <td>37.13333</td>\n",
       "      <td>(36.23333, 37.13333)</td>\n",
       "    </tr>\n",
       "    <tr>\n",
       "      <th>25</th>\n",
       "      <td>Alessandria</td>\n",
       "      <td>463</td>\n",
       "      <td>Valid</td>\n",
       "      <td>H5</td>\n",
       "      <td>908.0</td>\n",
       "      <td>Fell</td>\n",
       "      <td>01/01/1860 12:00:00 AM</td>\n",
       "      <td>44.88333</td>\n",
       "      <td>8.75000</td>\n",
       "      <td>(44.88333, 8.75)</td>\n",
       "    </tr>\n",
       "    <tr>\n",
       "      <th>26</th>\n",
       "      <td>Alexandrovsky</td>\n",
       "      <td>465</td>\n",
       "      <td>Valid</td>\n",
       "      <td>H4</td>\n",
       "      <td>9251.0</td>\n",
       "      <td>Fell</td>\n",
       "      <td>01/01/1900 12:00:00 AM</td>\n",
       "      <td>50.95000</td>\n",
       "      <td>31.81667</td>\n",
       "      <td>(50.95, 31.81667)</td>\n",
       "    </tr>\n",
       "    <tr>\n",
       "      <th>27</th>\n",
       "      <td>Alfianello</td>\n",
       "      <td>466</td>\n",
       "      <td>Valid</td>\n",
       "      <td>L6</td>\n",
       "      <td>228000.0</td>\n",
       "      <td>Fell</td>\n",
       "      <td>01/01/1883 12:00:00 AM</td>\n",
       "      <td>45.26667</td>\n",
       "      <td>10.15000</td>\n",
       "      <td>(45.26667, 10.15)</td>\n",
       "    </tr>\n",
       "    <tr>\n",
       "      <th>28</th>\n",
       "      <td>Allegan</td>\n",
       "      <td>2276</td>\n",
       "      <td>Valid</td>\n",
       "      <td>H5</td>\n",
       "      <td>32000.0</td>\n",
       "      <td>Fell</td>\n",
       "      <td>01/01/1899 12:00:00 AM</td>\n",
       "      <td>42.53333</td>\n",
       "      <td>-85.88333</td>\n",
       "      <td>(42.53333, -85.88333)</td>\n",
       "    </tr>\n",
       "    <tr>\n",
       "      <th>29</th>\n",
       "      <td>Allende</td>\n",
       "      <td>2278</td>\n",
       "      <td>Valid</td>\n",
       "      <td>CV3</td>\n",
       "      <td>2000000.0</td>\n",
       "      <td>Fell</td>\n",
       "      <td>01/01/1969 12:00:00 AM</td>\n",
       "      <td>26.96667</td>\n",
       "      <td>-105.31667</td>\n",
       "      <td>(26.96667, -105.31667)</td>\n",
       "    </tr>\n",
       "    <tr>\n",
       "      <th>...</th>\n",
       "      <td>...</td>\n",
       "      <td>...</td>\n",
       "      <td>...</td>\n",
       "      <td>...</td>\n",
       "      <td>...</td>\n",
       "      <td>...</td>\n",
       "      <td>...</td>\n",
       "      <td>...</td>\n",
       "      <td>...</td>\n",
       "      <td>...</td>\n",
       "    </tr>\n",
       "    <tr>\n",
       "      <th>45686</th>\n",
       "      <td>Ysleta</td>\n",
       "      <td>30375</td>\n",
       "      <td>Valid</td>\n",
       "      <td>Iron, ungrouped</td>\n",
       "      <td>140700.0</td>\n",
       "      <td>Found</td>\n",
       "      <td>01/01/1914 12:00:00 AM</td>\n",
       "      <td>31.65000</td>\n",
       "      <td>-106.18333</td>\n",
       "      <td>(31.65, -106.18333)</td>\n",
       "    </tr>\n",
       "    <tr>\n",
       "      <th>45687</th>\n",
       "      <td>Yucca 015</td>\n",
       "      <td>57175</td>\n",
       "      <td>Valid</td>\n",
       "      <td>H-metal</td>\n",
       "      <td>3.0</td>\n",
       "      <td>Found</td>\n",
       "      <td>01/01/2011 12:00:00 AM</td>\n",
       "      <td>34.81970</td>\n",
       "      <td>-114.27610</td>\n",
       "      <td>(34.8197, -114.2761)</td>\n",
       "    </tr>\n",
       "    <tr>\n",
       "      <th>45688</th>\n",
       "      <td>Yucca 016</td>\n",
       "      <td>57158</td>\n",
       "      <td>Valid</td>\n",
       "      <td>H5</td>\n",
       "      <td>25.9</td>\n",
       "      <td>Found</td>\n",
       "      <td>01/01/2011 12:00:00 AM</td>\n",
       "      <td>34.82658</td>\n",
       "      <td>-114.27763</td>\n",
       "      <td>(34.82658, -114.27763)</td>\n",
       "    </tr>\n",
       "    <tr>\n",
       "      <th>45689</th>\n",
       "      <td>Yucca 017</td>\n",
       "      <td>57159</td>\n",
       "      <td>Valid</td>\n",
       "      <td>H5</td>\n",
       "      <td>200.0</td>\n",
       "      <td>Found</td>\n",
       "      <td>01/01/2011 12:00:00 AM</td>\n",
       "      <td>34.81923</td>\n",
       "      <td>-114.27735</td>\n",
       "      <td>(34.81923, -114.27735)</td>\n",
       "    </tr>\n",
       "    <tr>\n",
       "      <th>45690</th>\n",
       "      <td>Yudoma</td>\n",
       "      <td>30376</td>\n",
       "      <td>Valid</td>\n",
       "      <td>Iron, IVA</td>\n",
       "      <td>7600.0</td>\n",
       "      <td>Found</td>\n",
       "      <td>01/01/1946 12:00:00 AM</td>\n",
       "      <td>60.00000</td>\n",
       "      <td>140.00000</td>\n",
       "      <td>(60.0, 140.0)</td>\n",
       "    </tr>\n",
       "    <tr>\n",
       "      <th>45691</th>\n",
       "      <td>Zacatecas (1792)</td>\n",
       "      <td>30381</td>\n",
       "      <td>Valid</td>\n",
       "      <td>Iron, ungrouped</td>\n",
       "      <td>1000000.0</td>\n",
       "      <td>Found</td>\n",
       "      <td>01/01/1792 12:00:00 AM</td>\n",
       "      <td>22.81667</td>\n",
       "      <td>-102.56667</td>\n",
       "      <td>(22.81667, -102.56667)</td>\n",
       "    </tr>\n",
       "    <tr>\n",
       "      <th>45692</th>\n",
       "      <td>Zacatecas (1969)</td>\n",
       "      <td>30382</td>\n",
       "      <td>Valid</td>\n",
       "      <td>Iron, IIIAB</td>\n",
       "      <td>6660.0</td>\n",
       "      <td>Found</td>\n",
       "      <td>01/01/1969 12:00:00 AM</td>\n",
       "      <td>NaN</td>\n",
       "      <td>NaN</td>\n",
       "      <td>NaN</td>\n",
       "    </tr>\n",
       "    <tr>\n",
       "      <th>45693</th>\n",
       "      <td>Zaffra</td>\n",
       "      <td>30383</td>\n",
       "      <td>Valid</td>\n",
       "      <td>Iron, IAB-MG</td>\n",
       "      <td>3000.0</td>\n",
       "      <td>Found</td>\n",
       "      <td>01/01/1919 12:00:00 AM</td>\n",
       "      <td>35.00000</td>\n",
       "      <td>-94.75000</td>\n",
       "      <td>(35.0, -94.75)</td>\n",
       "    </tr>\n",
       "    <tr>\n",
       "      <th>45694</th>\n",
       "      <td>Zag (b)</td>\n",
       "      <td>30385</td>\n",
       "      <td>Valid</td>\n",
       "      <td>Winonaite</td>\n",
       "      <td>300.0</td>\n",
       "      <td>Found</td>\n",
       "      <td>01/01/1999 12:00:00 AM</td>\n",
       "      <td>27.33333</td>\n",
       "      <td>-9.33333</td>\n",
       "      <td>(27.33333, -9.33333)</td>\n",
       "    </tr>\n",
       "    <tr>\n",
       "      <th>45695</th>\n",
       "      <td>Zagora</td>\n",
       "      <td>30387</td>\n",
       "      <td>Valid</td>\n",
       "      <td>Iron, IAB-ung</td>\n",
       "      <td>50000.0</td>\n",
       "      <td>Found</td>\n",
       "      <td>01/01/1987 12:00:00 AM</td>\n",
       "      <td>30.36667</td>\n",
       "      <td>-5.85000</td>\n",
       "      <td>(30.36667, -5.85)</td>\n",
       "    </tr>\n",
       "    <tr>\n",
       "      <th>45696</th>\n",
       "      <td>ZakÅodzie</td>\n",
       "      <td>30390</td>\n",
       "      <td>Valid</td>\n",
       "      <td>Enst achon-ung</td>\n",
       "      <td>8680.0</td>\n",
       "      <td>Found</td>\n",
       "      <td>01/01/1998 12:00:00 AM</td>\n",
       "      <td>50.76278</td>\n",
       "      <td>22.86611</td>\n",
       "      <td>(50.76278, 22.86611)</td>\n",
       "    </tr>\n",
       "    <tr>\n",
       "      <th>45697</th>\n",
       "      <td>Zapaliname</td>\n",
       "      <td>30392</td>\n",
       "      <td>Valid</td>\n",
       "      <td>Iron, IAB-MG</td>\n",
       "      <td>85000.0</td>\n",
       "      <td>Found</td>\n",
       "      <td>01/01/1998 12:00:00 AM</td>\n",
       "      <td>25.00944</td>\n",
       "      <td>-100.75000</td>\n",
       "      <td>(25.00944, -100.75)</td>\n",
       "    </tr>\n",
       "    <tr>\n",
       "      <th>45698</th>\n",
       "      <td>Zapata County</td>\n",
       "      <td>30393</td>\n",
       "      <td>Valid</td>\n",
       "      <td>Iron</td>\n",
       "      <td>NaN</td>\n",
       "      <td>Found</td>\n",
       "      <td>01/01/1930 12:00:00 AM</td>\n",
       "      <td>27.00000</td>\n",
       "      <td>-99.00000</td>\n",
       "      <td>(27.0, -99.0)</td>\n",
       "    </tr>\n",
       "    <tr>\n",
       "      <th>45699</th>\n",
       "      <td>ZapotitlÃ¡n Salinas</td>\n",
       "      <td>30394</td>\n",
       "      <td>Valid</td>\n",
       "      <td>L4</td>\n",
       "      <td>27.7</td>\n",
       "      <td>Found</td>\n",
       "      <td>01/01/1984 12:00:00 AM</td>\n",
       "      <td>18.33333</td>\n",
       "      <td>-97.50000</td>\n",
       "      <td>(18.33333, -97.5)</td>\n",
       "    </tr>\n",
       "    <tr>\n",
       "      <th>45700</th>\n",
       "      <td>Zaragoza</td>\n",
       "      <td>48916</td>\n",
       "      <td>Valid</td>\n",
       "      <td>Iron, IVA-an</td>\n",
       "      <td>162000.0</td>\n",
       "      <td>Found</td>\n",
       "      <td>NaN</td>\n",
       "      <td>41.65000</td>\n",
       "      <td>-0.86667</td>\n",
       "      <td>(41.65, -0.86667)</td>\n",
       "    </tr>\n",
       "    <tr>\n",
       "      <th>45701</th>\n",
       "      <td>Zegdou</td>\n",
       "      <td>30398</td>\n",
       "      <td>Valid</td>\n",
       "      <td>H3</td>\n",
       "      <td>6700.0</td>\n",
       "      <td>Found</td>\n",
       "      <td>01/01/1998 12:00:00 AM</td>\n",
       "      <td>29.75000</td>\n",
       "      <td>-4.50000</td>\n",
       "      <td>(29.75, -4.5)</td>\n",
       "    </tr>\n",
       "    <tr>\n",
       "      <th>45702</th>\n",
       "      <td>Zelfana</td>\n",
       "      <td>31353</td>\n",
       "      <td>Valid</td>\n",
       "      <td>L5</td>\n",
       "      <td>1058.0</td>\n",
       "      <td>Found</td>\n",
       "      <td>01/01/2002 12:00:00 AM</td>\n",
       "      <td>32.15833</td>\n",
       "      <td>4.63333</td>\n",
       "      <td>(32.15833, 4.63333)</td>\n",
       "    </tr>\n",
       "    <tr>\n",
       "      <th>45703</th>\n",
       "      <td>Zenda</td>\n",
       "      <td>30400</td>\n",
       "      <td>Valid</td>\n",
       "      <td>Iron, IAB complex</td>\n",
       "      <td>3700.0</td>\n",
       "      <td>Found</td>\n",
       "      <td>01/01/1955 12:00:00 AM</td>\n",
       "      <td>42.51333</td>\n",
       "      <td>-88.48944</td>\n",
       "      <td>(42.51333, -88.48944)</td>\n",
       "    </tr>\n",
       "    <tr>\n",
       "      <th>45704</th>\n",
       "      <td>Zerga</td>\n",
       "      <td>30402</td>\n",
       "      <td>Valid</td>\n",
       "      <td>LL6</td>\n",
       "      <td>76.0</td>\n",
       "      <td>Found</td>\n",
       "      <td>01/01/1973 12:00:00 AM</td>\n",
       "      <td>20.25000</td>\n",
       "      <td>-12.68333</td>\n",
       "      <td>(20.25, -12.68333)</td>\n",
       "    </tr>\n",
       "    <tr>\n",
       "      <th>45705</th>\n",
       "      <td>Zerhamra</td>\n",
       "      <td>30403</td>\n",
       "      <td>Valid</td>\n",
       "      <td>Iron, IIIAB-an</td>\n",
       "      <td>630000.0</td>\n",
       "      <td>Found</td>\n",
       "      <td>01/01/1967 12:00:00 AM</td>\n",
       "      <td>29.85861</td>\n",
       "      <td>-2.64500</td>\n",
       "      <td>(29.85861, -2.645)</td>\n",
       "    </tr>\n",
       "    <tr>\n",
       "      <th>45706</th>\n",
       "      <td>Zerkaly</td>\n",
       "      <td>31354</td>\n",
       "      <td>Valid</td>\n",
       "      <td>H5</td>\n",
       "      <td>16000.0</td>\n",
       "      <td>Found</td>\n",
       "      <td>01/01/1956 12:00:00 AM</td>\n",
       "      <td>52.13333</td>\n",
       "      <td>81.96667</td>\n",
       "      <td>(52.13333, 81.96667)</td>\n",
       "    </tr>\n",
       "    <tr>\n",
       "      <th>45707</th>\n",
       "      <td>Zhaoping</td>\n",
       "      <td>54609</td>\n",
       "      <td>Valid</td>\n",
       "      <td>Iron, IAB complex</td>\n",
       "      <td>2000000.0</td>\n",
       "      <td>Found</td>\n",
       "      <td>01/01/1983 12:00:00 AM</td>\n",
       "      <td>24.23333</td>\n",
       "      <td>111.18333</td>\n",
       "      <td>(24.23333, 111.18333)</td>\n",
       "    </tr>\n",
       "    <tr>\n",
       "      <th>45708</th>\n",
       "      <td>Zhigansk</td>\n",
       "      <td>30405</td>\n",
       "      <td>Valid</td>\n",
       "      <td>Iron, IIIAB</td>\n",
       "      <td>900000.0</td>\n",
       "      <td>Found</td>\n",
       "      <td>01/01/1966 12:00:00 AM</td>\n",
       "      <td>68.00000</td>\n",
       "      <td>128.30000</td>\n",
       "      <td>(68.0, 128.3)</td>\n",
       "    </tr>\n",
       "    <tr>\n",
       "      <th>45709</th>\n",
       "      <td>Zhongxiang</td>\n",
       "      <td>30406</td>\n",
       "      <td>Valid</td>\n",
       "      <td>Iron</td>\n",
       "      <td>100000.0</td>\n",
       "      <td>Found</td>\n",
       "      <td>01/01/1981 12:00:00 AM</td>\n",
       "      <td>31.20000</td>\n",
       "      <td>112.50000</td>\n",
       "      <td>(31.2, 112.5)</td>\n",
       "    </tr>\n",
       "    <tr>\n",
       "      <th>45710</th>\n",
       "      <td>Zillah 001</td>\n",
       "      <td>31355</td>\n",
       "      <td>Valid</td>\n",
       "      <td>L6</td>\n",
       "      <td>1475.0</td>\n",
       "      <td>Found</td>\n",
       "      <td>01/01/1990 12:00:00 AM</td>\n",
       "      <td>29.03700</td>\n",
       "      <td>17.01850</td>\n",
       "      <td>(29.037, 17.0185)</td>\n",
       "    </tr>\n",
       "    <tr>\n",
       "      <th>45711</th>\n",
       "      <td>Zillah 002</td>\n",
       "      <td>31356</td>\n",
       "      <td>Valid</td>\n",
       "      <td>Eucrite</td>\n",
       "      <td>172.0</td>\n",
       "      <td>Found</td>\n",
       "      <td>01/01/1990 12:00:00 AM</td>\n",
       "      <td>29.03700</td>\n",
       "      <td>17.01850</td>\n",
       "      <td>(29.037, 17.0185)</td>\n",
       "    </tr>\n",
       "    <tr>\n",
       "      <th>45712</th>\n",
       "      <td>Zinder</td>\n",
       "      <td>30409</td>\n",
       "      <td>Valid</td>\n",
       "      <td>Pallasite, ungrouped</td>\n",
       "      <td>46.0</td>\n",
       "      <td>Found</td>\n",
       "      <td>01/01/1999 12:00:00 AM</td>\n",
       "      <td>13.78333</td>\n",
       "      <td>8.96667</td>\n",
       "      <td>(13.78333, 8.96667)</td>\n",
       "    </tr>\n",
       "    <tr>\n",
       "      <th>45713</th>\n",
       "      <td>Zlin</td>\n",
       "      <td>30410</td>\n",
       "      <td>Valid</td>\n",
       "      <td>H4</td>\n",
       "      <td>3.3</td>\n",
       "      <td>Found</td>\n",
       "      <td>01/01/1939 12:00:00 AM</td>\n",
       "      <td>49.25000</td>\n",
       "      <td>17.66667</td>\n",
       "      <td>(49.25, 17.66667)</td>\n",
       "    </tr>\n",
       "    <tr>\n",
       "      <th>45714</th>\n",
       "      <td>Zubkovsky</td>\n",
       "      <td>31357</td>\n",
       "      <td>Valid</td>\n",
       "      <td>L6</td>\n",
       "      <td>2167.0</td>\n",
       "      <td>Found</td>\n",
       "      <td>01/01/2003 12:00:00 AM</td>\n",
       "      <td>49.78917</td>\n",
       "      <td>41.50460</td>\n",
       "      <td>(49.78917, 41.5046)</td>\n",
       "    </tr>\n",
       "    <tr>\n",
       "      <th>45715</th>\n",
       "      <td>Zulu Queen</td>\n",
       "      <td>30414</td>\n",
       "      <td>Valid</td>\n",
       "      <td>L3.7</td>\n",
       "      <td>200.0</td>\n",
       "      <td>Found</td>\n",
       "      <td>01/01/1976 12:00:00 AM</td>\n",
       "      <td>33.98333</td>\n",
       "      <td>-115.68333</td>\n",
       "      <td>(33.98333, -115.68333)</td>\n",
       "    </tr>\n",
       "  </tbody>\n",
       "</table>\n",
       "<p>45716 rows × 10 columns</p>\n",
       "</div>"
      ],
      "text/plain": [
       "             name     id nametype              recclass  mass (g)   fall  \\\n",
       "0          Aachen      1    Valid                    L5      21.0   Fell   \n",
       "1          Aarhus      2    Valid                    H6     720.0   Fell   \n",
       "2            Abee      6    Valid                   EH4  107000.0   Fell   \n",
       "3        Acapulco     10    Valid           Acapulcoite    1914.0   Fell   \n",
       "4         Achiras    370    Valid                    L6     780.0   Fell   \n",
       "...           ...    ...      ...                   ...       ...    ...   \n",
       "45711  Zillah 002  31356    Valid               Eucrite     172.0  Found   \n",
       "45712      Zinder  30409    Valid  Pallasite, ungrouped      46.0  Found   \n",
       "45713        Zlin  30410    Valid                    H4       3.3  Found   \n",
       "45714   Zubkovsky  31357    Valid                    L6    2167.0  Found   \n",
       "45715  Zulu Queen  30414    Valid                  L3.7     200.0  Found   \n",
       "\n",
       "                         year    reclat    reclong             GeoLocation  \n",
       "0      01/01/1880 12:00:00 AM  50.77500    6.08333       (50.775, 6.08333)  \n",
       "1      01/01/1951 12:00:00 AM  56.18333   10.23333    (56.18333, 10.23333)  \n",
       "2      01/01/1952 12:00:00 AM  54.21667 -113.00000      (54.21667, -113.0)  \n",
       "3      01/01/1976 12:00:00 AM  16.88333  -99.90000       (16.88333, -99.9)  \n",
       "4      01/01/1902 12:00:00 AM -33.16667  -64.95000     (-33.16667, -64.95)  \n",
       "...                       ...       ...        ...                     ...  \n",
       "45711  01/01/1990 12:00:00 AM  29.03700   17.01850       (29.037, 17.0185)  \n",
       "45712  01/01/1999 12:00:00 AM  13.78333    8.96667     (13.78333, 8.96667)  \n",
       "45713  01/01/1939 12:00:00 AM  49.25000   17.66667       (49.25, 17.66667)  \n",
       "45714  01/01/2003 12:00:00 AM  49.78917   41.50460     (49.78917, 41.5046)  \n",
       "45715  01/01/1976 12:00:00 AM  33.98333 -115.68333  (33.98333, -115.68333)  \n",
       "\n",
       "[45716 rows x 10 columns]"
      ]
     },
     "execution_count": 3,
     "metadata": {},
     "output_type": "execute_result"
    }
   ],
   "source": [
    "df_3 #Fireball_And_Bolide_Reports"
   ]
  },
  {
   "cell_type": "code",
   "execution_count": 4,
   "metadata": {},
   "outputs": [
    {
     "data": {
      "text/plain": [
       "name              0\n",
       "id                0\n",
       "nametype          0\n",
       "recclass          0\n",
       "mass (g)        131\n",
       "fall              0\n",
       "year            291\n",
       "reclat         7315\n",
       "reclong        7315\n",
       "GeoLocation    7315\n",
       "dtype: int64"
      ]
     },
     "execution_count": 4,
     "metadata": {},
     "output_type": "execute_result"
    }
   ],
   "source": [
    "#Search Null\n",
    "np.sum(df_3.isnull())"
   ]
  },
  {
   "cell_type": "code",
   "execution_count": 5,
   "metadata": {},
   "outputs": [
    {
     "data": {
      "text/plain": [
       "name           0\n",
       "id             0\n",
       "nametype       0\n",
       "recclass       0\n",
       "mass (g)       0\n",
       "fall           0\n",
       "year           0\n",
       "reclat         0\n",
       "reclong        0\n",
       "GeoLocation    0\n",
       "dtype: int64"
      ]
     },
     "execution_count": 5,
     "metadata": {},
     "output_type": "execute_result"
    }
   ],
   "source": [
    "df_3_nn = df_3.dropna(how = \"any\")\n",
    "np.sum(df_3_nn.isnull())"
   ]
  },
  {
   "cell_type": "markdown",
   "metadata": {},
   "source": [
    "##### *Second Step: Clean the data*"
   ]
  },
  {
   "cell_type": "code",
   "execution_count": 6,
   "metadata": {
    "scrolled": true
   },
   "outputs": [
    {
     "name": "stdout",
     "output_type": "stream",
     "text": [
      "dimensiones con nulls = (45716, 10)\n",
      "dimensiones sin nulls = (38115, 10)\n"
     ]
    }
   ],
   "source": [
    "print(\"dimensiones con nulls =\", df_3.shape)\n",
    "print(\"dimensiones sin nulls =\", df_3_nn.shape)"
   ]
  },
  {
   "cell_type": "markdown",
   "metadata": {},
   "source": [
    "###### Delete unnecesary columns"
   ]
  },
  {
   "cell_type": "code",
   "execution_count": 8,
   "metadata": {
    "scrolled": true
   },
   "outputs": [
    {
     "data": {
      "text/plain": [
       "Index(['name', 'id', 'nametype', 'recclass', 'mass (g)', 'fall', 'year',\n",
       "       'reclat', 'reclong', 'GeoLocation'],\n",
       "      dtype='object')"
      ]
     },
     "execution_count": 8,
     "metadata": {},
     "output_type": "execute_result"
    }
   ],
   "source": [
    "df_3_nn.columns"
   ]
  },
  {
   "cell_type": "code",
   "execution_count": 9,
   "metadata": {},
   "outputs": [],
   "source": [
    "del df_3_nn['name']\n",
    "del df_3_nn['id']\n",
    "del df_3_nn['nametype']"
   ]
  },
  {
   "cell_type": "code",
   "execution_count": 13,
   "metadata": {},
   "outputs": [
    {
     "data": {
      "text/plain": [
       "(38115,)"
      ]
     },
     "execution_count": 13,
     "metadata": {},
     "output_type": "execute_result"
    }
   ],
   "source": [
    "data_y = df_3_nn[\"mass (g)\"]\n",
    "data_y.shape"
   ]
  },
  {
   "cell_type": "markdown",
   "metadata": {},
   "source": [
    "***\n",
    "### Categorical Data\n",
    "\n",
    "* recclass\n",
    "* fall\n",
    "* year\n",
    "* GeoLocation"
   ]
  },
  {
   "cell_type": "markdown",
   "metadata": {},
   "source": [
    "#### One Hot Encoding GeoLocation"
   ]
  },
  {
   "cell_type": "code",
   "execution_count": 14,
   "metadata": {},
   "outputs": [
    {
     "name": "stdout",
     "output_type": "stream",
     "text": [
      "(0.0, 0.0)                6186\n",
      "(-71.5, 35.66667)         4760\n",
      "(-84.0, 168.0)            3040\n",
      "(-72.0, 26.0)             1505\n",
      "(-79.68333, 159.75)        657\n",
      "                          ... \n",
      "(-85.16782, -94.72788)       1\n",
      "(34.6, 116.75)               1\n",
      "(-72.98917, 160.405)         1\n",
      "(19.11067, 54.81633)         1\n",
      "(34.00056, -115.72972)       1\n",
      "Name: GeoLocation, Length: 16907, dtype: int64\n"
     ]
    }
   ],
   "source": [
    "print(df_3_nn['GeoLocation'].value_counts())"
   ]
  },
  {
   "cell_type": "code",
   "execution_count": 15,
   "metadata": {},
   "outputs": [
    {
     "name": "stderr",
     "output_type": "stream",
     "text": [
      "C:\\Users\\Jose\\Anaconda3\\lib\\site-packages\\ipykernel_launcher.py:1: SettingWithCopyWarning: \n",
      "A value is trying to be set on a copy of a slice from a DataFrame.\n",
      "Try using .loc[row_indexer,col_indexer] = value instead\n",
      "\n",
      "See the caveats in the documentation: http://pandas.pydata.org/pandas-docs/stable/user_guide/indexing.html#returning-a-view-versus-a-copy\n",
      "  \"\"\"Entry point for launching an IPython kernel.\n",
      "C:\\Users\\Jose\\Anaconda3\\lib\\site-packages\\ipykernel_launcher.py:2: SettingWithCopyWarning: \n",
      "A value is trying to be set on a copy of a slice from a DataFrame.\n",
      "Try using .loc[row_indexer,col_indexer] = value instead\n",
      "\n",
      "See the caveats in the documentation: http://pandas.pydata.org/pandas-docs/stable/user_guide/indexing.html#returning-a-view-versus-a-copy\n",
      "  \n"
     ]
    },
    {
     "data": {
      "text/plain": [
       "(38115, 16907)"
      ]
     },
     "execution_count": 15,
     "metadata": {},
     "output_type": "execute_result"
    }
   ],
   "source": [
    "df_3_nn['GeoLocation'] = pd.Categorical(df_3_nn['GeoLocation'])\n",
    "df_3_nn['GeoLocation'] = df_3_nn['GeoLocation'].cat.codes \n",
    "data_encoded_GeoLocation = to_categorical(df_3_nn['GeoLocation'])\n",
    "data_encoded_GeoLocation.shape"
   ]
  },
  {
   "cell_type": "markdown",
   "metadata": {},
   "source": [
    "#### One Hot Encoding year"
   ]
  },
  {
   "cell_type": "code",
   "execution_count": 16,
   "metadata": {},
   "outputs": [
    {
     "name": "stdout",
     "output_type": "stream",
     "text": [
      "01/01/1979 12:00:00 AM    3045\n",
      "01/01/1988 12:00:00 AM    2295\n",
      "01/01/1998 12:00:00 AM    2147\n",
      "01/01/2003 12:00:00 AM    1754\n",
      "01/01/2006 12:00:00 AM    1616\n",
      "                          ... \n",
      "12/28/0860 12:00:00 AM       1\n",
      "01/01/1751 12:00:00 AM       1\n",
      "01/01/1797 12:00:00 AM       1\n",
      "12/23/1490 12:00:00 AM       1\n",
      "01/01/1809 12:00:00 AM       1\n",
      "Name: year, Length: 253, dtype: int64\n"
     ]
    }
   ],
   "source": [
    "print(df_3_nn['year'].value_counts())"
   ]
  },
  {
   "cell_type": "code",
   "execution_count": 17,
   "metadata": {},
   "outputs": [
    {
     "name": "stderr",
     "output_type": "stream",
     "text": [
      "C:\\Users\\Jose\\Anaconda3\\lib\\site-packages\\ipykernel_launcher.py:1: SettingWithCopyWarning: \n",
      "A value is trying to be set on a copy of a slice from a DataFrame.\n",
      "Try using .loc[row_indexer,col_indexer] = value instead\n",
      "\n",
      "See the caveats in the documentation: http://pandas.pydata.org/pandas-docs/stable/user_guide/indexing.html#returning-a-view-versus-a-copy\n",
      "  \"\"\"Entry point for launching an IPython kernel.\n",
      "C:\\Users\\Jose\\Anaconda3\\lib\\site-packages\\ipykernel_launcher.py:2: SettingWithCopyWarning: \n",
      "A value is trying to be set on a copy of a slice from a DataFrame.\n",
      "Try using .loc[row_indexer,col_indexer] = value instead\n",
      "\n",
      "See the caveats in the documentation: http://pandas.pydata.org/pandas-docs/stable/user_guide/indexing.html#returning-a-view-versus-a-copy\n",
      "  \n"
     ]
    },
    {
     "data": {
      "text/plain": [
       "(38115, 253)"
      ]
     },
     "execution_count": 17,
     "metadata": {},
     "output_type": "execute_result"
    }
   ],
   "source": [
    "df_3_nn['year'] = pd.Categorical(df_3_nn['year'])\n",
    "df_3_nn['year'] = df_3_nn['year'].cat.codes \n",
    "data_encoded_year = to_categorical(df_3_nn['year'])\n",
    "data_encoded_year.shape"
   ]
  },
  {
   "cell_type": "markdown",
   "metadata": {},
   "source": [
    "#### One Hot Encoding recclass"
   ]
  },
  {
   "cell_type": "code",
   "execution_count": 18,
   "metadata": {},
   "outputs": [
    {
     "name": "stdout",
     "output_type": "stream",
     "text": [
      "L6                       7519\n",
      "H5                       6243\n",
      "H6                       3898\n",
      "H4                       3880\n",
      "L5                       3264\n",
      "                         ... \n",
      "Acapulcoite/lodranite       1\n",
      "L5-7                        1\n",
      "H3.7-6                      1\n",
      "H(L)3                       1\n",
      "L(LL)3.5-3.7                1\n",
      "Name: recclass, Length: 422, dtype: int64\n"
     ]
    }
   ],
   "source": [
    "print(df_3_nn['recclass'].value_counts())"
   ]
  },
  {
   "cell_type": "code",
   "execution_count": 19,
   "metadata": {},
   "outputs": [
    {
     "name": "stderr",
     "output_type": "stream",
     "text": [
      "C:\\Users\\Jose\\Anaconda3\\lib\\site-packages\\ipykernel_launcher.py:1: SettingWithCopyWarning: \n",
      "A value is trying to be set on a copy of a slice from a DataFrame.\n",
      "Try using .loc[row_indexer,col_indexer] = value instead\n",
      "\n",
      "See the caveats in the documentation: http://pandas.pydata.org/pandas-docs/stable/user_guide/indexing.html#returning-a-view-versus-a-copy\n",
      "  \"\"\"Entry point for launching an IPython kernel.\n",
      "C:\\Users\\Jose\\Anaconda3\\lib\\site-packages\\ipykernel_launcher.py:2: SettingWithCopyWarning: \n",
      "A value is trying to be set on a copy of a slice from a DataFrame.\n",
      "Try using .loc[row_indexer,col_indexer] = value instead\n",
      "\n",
      "See the caveats in the documentation: http://pandas.pydata.org/pandas-docs/stable/user_guide/indexing.html#returning-a-view-versus-a-copy\n",
      "  \n"
     ]
    },
    {
     "data": {
      "text/plain": [
       "(38115, 422)"
      ]
     },
     "execution_count": 19,
     "metadata": {},
     "output_type": "execute_result"
    }
   ],
   "source": [
    "df_3_nn['recclass'] = pd.Categorical(df_3_nn['recclass'])\n",
    "df_3_nn['recclass'] = df_3_nn['recclass'].cat.codes \n",
    "data_encoded_recclass = to_categorical(df_3_nn['recclass'])\n",
    "data_encoded_recclass.shape"
   ]
  },
  {
   "cell_type": "code",
   "execution_count": 20,
   "metadata": {},
   "outputs": [],
   "source": [
    "#### One Hot Encoding fall"
   ]
  },
  {
   "cell_type": "code",
   "execution_count": 21,
   "metadata": {},
   "outputs": [
    {
     "name": "stdout",
     "output_type": "stream",
     "text": [
      "Found    37050\n",
      "Fell      1065\n",
      "Name: fall, dtype: int64\n"
     ]
    }
   ],
   "source": [
    "print(df_3_nn['fall'].value_counts())"
   ]
  },
  {
   "cell_type": "code",
   "execution_count": 22,
   "metadata": {},
   "outputs": [
    {
     "name": "stderr",
     "output_type": "stream",
     "text": [
      "C:\\Users\\Jose\\Anaconda3\\lib\\site-packages\\ipykernel_launcher.py:1: SettingWithCopyWarning: \n",
      "A value is trying to be set on a copy of a slice from a DataFrame.\n",
      "Try using .loc[row_indexer,col_indexer] = value instead\n",
      "\n",
      "See the caveats in the documentation: http://pandas.pydata.org/pandas-docs/stable/user_guide/indexing.html#returning-a-view-versus-a-copy\n",
      "  \"\"\"Entry point for launching an IPython kernel.\n",
      "C:\\Users\\Jose\\Anaconda3\\lib\\site-packages\\ipykernel_launcher.py:2: SettingWithCopyWarning: \n",
      "A value is trying to be set on a copy of a slice from a DataFrame.\n",
      "Try using .loc[row_indexer,col_indexer] = value instead\n",
      "\n",
      "See the caveats in the documentation: http://pandas.pydata.org/pandas-docs/stable/user_guide/indexing.html#returning-a-view-versus-a-copy\n",
      "  \n"
     ]
    },
    {
     "data": {
      "text/plain": [
       "(38115, 2)"
      ]
     },
     "execution_count": 22,
     "metadata": {},
     "output_type": "execute_result"
    }
   ],
   "source": [
    "df_3_nn['fall'] = pd.Categorical(df_3_nn['fall'])\n",
    "df_3_nn['fall'] = df_3_nn['fall'].cat.codes \n",
    "data_encoded_fall = to_categorical(df_3_nn['fall'])\n",
    "data_encoded_fall.shape"
   ]
  },
  {
   "cell_type": "code",
   "execution_count": 23,
   "metadata": {},
   "outputs": [
    {
     "data": {
      "text/plain": [
       "array([[1., 0.],\n",
       "       [1., 0.],\n",
       "       [1., 0.],\n",
       "       ...,\n",
       "       [0., 1.],\n",
       "       [0., 1.],\n",
       "       [0., 1.]], dtype=float32)"
      ]
     },
     "execution_count": 23,
     "metadata": {},
     "output_type": "execute_result"
    }
   ],
   "source": [
    "data_encoded_fall"
   ]
  },
  {
   "cell_type": "markdown",
   "metadata": {},
   "source": [
    "##### Prepare data"
   ]
  },
  {
   "cell_type": "code",
   "execution_count": 24,
   "metadata": {},
   "outputs": [
    {
     "data": {
      "text/plain": [
       "Index(['recclass', 'mass (g)', 'fall', 'year', 'reclat', 'reclong',\n",
       "       'GeoLocation'],\n",
       "      dtype='object')"
      ]
     },
     "execution_count": 24,
     "metadata": {},
     "output_type": "execute_result"
    }
   ],
   "source": [
    "col_name = df_3_nn.columns\n",
    "col_name"
   ]
  },
  {
   "cell_type": "code",
   "execution_count": 49,
   "metadata": {},
   "outputs": [
    {
     "data": {
      "text/plain": [
       "Index(['reclat', 'reclong'], dtype='object')"
      ]
     },
     "execution_count": 49,
     "metadata": {},
     "output_type": "execute_result"
    }
   ],
   "source": [
    "col_x = col_name.drop(['fall','recclass', \"year\",'GeoLocation', 'mass (g)'])\n",
    "col_x"
   ]
  },
  {
   "cell_type": "code",
   "execution_count": 50,
   "metadata": {},
   "outputs": [
    {
     "data": {
      "text/plain": [
       "(38115, 2)"
      ]
     },
     "execution_count": 50,
     "metadata": {},
     "output_type": "execute_result"
    }
   ],
   "source": [
    "data_x = df_3_nn[col_x]\n",
    "data_x.shape"
   ]
  },
  {
   "cell_type": "code",
   "execution_count": 46,
   "metadata": {},
   "outputs": [
    {
     "data": {
      "text/plain": [
       "(45213, 4)"
      ]
     },
     "execution_count": 46,
     "metadata": {},
     "output_type": "execute_result"
    }
   ],
   "source": [
    "data_x = pd.concat([data_x, pd.DataFrame(data_encoded_fall, columns = [\"Found\", \"Fell\"])], axis=1)\n",
    "data_x.shape"
   ]
  },
  {
   "cell_type": "code",
   "execution_count": 51,
   "metadata": {},
   "outputs": [
    {
     "data": {
      "text/html": [
       "<div>\n",
       "<style scoped>\n",
       "    .dataframe tbody tr th:only-of-type {\n",
       "        vertical-align: middle;\n",
       "    }\n",
       "\n",
       "    .dataframe tbody tr th {\n",
       "        vertical-align: top;\n",
       "    }\n",
       "\n",
       "    .dataframe thead th {\n",
       "        text-align: right;\n",
       "    }\n",
       "</style>\n",
       "<table border=\"1\" class=\"dataframe\">\n",
       "  <thead>\n",
       "    <tr style=\"text-align: right;\">\n",
       "      <th></th>\n",
       "      <th>reclat</th>\n",
       "      <th>reclong</th>\n",
       "    </tr>\n",
       "  </thead>\n",
       "  <tbody>\n",
       "    <tr>\n",
       "      <th>0</th>\n",
       "      <td>50.77500</td>\n",
       "      <td>6.08333</td>\n",
       "    </tr>\n",
       "    <tr>\n",
       "      <th>1</th>\n",
       "      <td>56.18333</td>\n",
       "      <td>10.23333</td>\n",
       "    </tr>\n",
       "    <tr>\n",
       "      <th>2</th>\n",
       "      <td>54.21667</td>\n",
       "      <td>-113.00000</td>\n",
       "    </tr>\n",
       "    <tr>\n",
       "      <th>3</th>\n",
       "      <td>16.88333</td>\n",
       "      <td>-99.90000</td>\n",
       "    </tr>\n",
       "    <tr>\n",
       "      <th>4</th>\n",
       "      <td>-33.16667</td>\n",
       "      <td>-64.95000</td>\n",
       "    </tr>\n",
       "  </tbody>\n",
       "</table>\n",
       "</div>"
      ],
      "text/plain": [
       "     reclat    reclong\n",
       "0  50.77500    6.08333\n",
       "1  56.18333   10.23333\n",
       "2  54.21667 -113.00000\n",
       "3  16.88333  -99.90000\n",
       "4 -33.16667  -64.95000"
      ]
     },
     "execution_count": 51,
     "metadata": {},
     "output_type": "execute_result"
    }
   ],
   "source": [
    "data_x.head()"
   ]
  },
  {
   "cell_type": "code",
   "execution_count": 60,
   "metadata": {},
   "outputs": [],
   "source": [
    "x_train, x_test, y_train, y_test = train_test_split(data_x, data_y, test_size = 0.1, random_state = 0)"
   ]
  },
  {
   "cell_type": "markdown",
   "metadata": {},
   "source": [
    "### Build the Model with Multilayer Perceptron"
   ]
  },
  {
   "cell_type": "code",
   "execution_count": 61,
   "metadata": {},
   "outputs": [
    {
     "name": "stdout",
     "output_type": "stream",
     "text": [
      "_________________________________________________________________\n",
      "Layer (type)                 Output Shape              Param #   \n",
      "=================================================================\n",
      "dense_21 (Dense)             (None, 128)               384       \n",
      "_________________________________________________________________\n",
      "dense_22 (Dense)             (None, 64)                8256      \n",
      "_________________________________________________________________\n",
      "dense_23 (Dense)             (None, 32)                2080      \n",
      "_________________________________________________________________\n",
      "dense_24 (Dense)             (None, 1)                 33        \n",
      "=================================================================\n",
      "Total params: 10,753\n",
      "Trainable params: 10,753\n",
      "Non-trainable params: 0\n",
      "_________________________________________________________________\n"
     ]
    }
   ],
   "source": [
    "model_1 = Sequential()\n",
    "model_1.add(Dense(128, input_shape = (2, ), activation = \"relu\"))\n",
    "model_1.add(Dense(64, activation = \"relu\"))\n",
    "model_1.add(Dense(32, activation = \"relu\"))\n",
    "model_1.add(Dense(1, activation = \"softmax\"))\n",
    "model_1.compile(loss = \"binary_crossentropy\", optimizer = \"adam\", metrics = [\"accuracy\"])\n",
    "model_1.summary()"
   ]
  },
  {
   "cell_type": "code",
   "execution_count": 62,
   "metadata": {},
   "outputs": [
    {
     "name": "stdout",
     "output_type": "stream",
     "text": [
      "Train on 30872 samples, validate on 3431 samples\n",
      "Epoch 1/100\n",
      "30872/30872 [==============================] - 3s 83us/step - loss: -247197.4848 - acc: 0.0022 - val_loss: -106066.3523 - val_acc: 0.0023\n",
      "Epoch 2/100\n",
      "30872/30872 [==============================] - 1s 23us/step - loss: -247197.4781 - acc: 0.0022 - val_loss: -106066.3523 - val_acc: 0.0023\n",
      "Epoch 3/100\n",
      "30872/30872 [==============================] - 1s 23us/step - loss: -247197.4920 - acc: 0.0022 - val_loss: -106066.3523 - val_acc: 0.0023\n",
      "Epoch 4/100\n",
      "30872/30872 [==============================] - 1s 23us/step - loss: -247197.4866 - acc: 0.0022 - val_loss: -106066.3523 - val_acc: 0.0023\n",
      "3812/3812 [==============================] - 0s 31us/step\n",
      "Accuracy: 0.0018363064008394543\n"
     ]
    }
   ],
   "source": [
    "monitor_val_acc_1 = EarlyStopping(monitor = \"val_acc\", patience = 3)\n",
    "modelCheckpoint_1 = ModelCheckpoint(\"beer_batch_128.hdf5\", save_best_only = True)\n",
    "\n",
    "history_1 = model_1.fit(x_train, y_train, epochs = 100, batch_size = 128, validation_split = 0.1, callbacks = [monitor_val_acc_1, modelCheckpoint_1])\n",
    "accuracy_1 = model_1.evaluate(x_test, y_test)[1]\n",
    "print('Accuracy:', accuracy_1)"
   ]
  },
  {
   "cell_type": "code",
   "execution_count": 63,
   "metadata": {},
   "outputs": [
    {
     "name": "stdout",
     "output_type": "stream",
     "text": [
      "Train on 27442 samples, validate on 6861 samples\n",
      "Epoch 1/100\n",
      "27442/27442 [==============================] - 3s 101us/step - loss: -254795.1153 - acc: 0.0023 - val_loss: -146233.3395 - val_acc: 0.0019\n",
      "Epoch 2/100\n",
      "27442/27442 [==============================] - 3s 100us/step - loss: -254795.1127 - acc: 0.0023 - val_loss: -146233.3395 - val_acc: 0.0019\n",
      "Epoch 3/100\n",
      "27442/27442 [==============================] - 3s 92us/step - loss: -254795.1160 - acc: 0.0023 - val_loss: -146233.3395 - val_acc: 0.0019\n",
      "Epoch 4/100\n",
      "27442/27442 [==============================] - 2s 88us/step - loss: -254795.1130 - acc: 0.0023 - val_loss: -146233.3395 - val_acc: 0.0019\n",
      "3812/3812 [==============================] - 0s 33us/step\n",
      "Accuracy: 0.0018363064008394543\n"
     ]
    }
   ],
   "source": [
    "monitor_val_acc_2 = EarlyStopping(monitor = \"val_acc\", patience = 3)\n",
    "modelCheckpoint_2 = ModelCheckpoint(\"beer_no_batch.hdf5\", save_best_only = True)\n",
    "\n",
    "history_2 = model_1.fit(x_train, y_train, epochs = 100, validation_split = 0.2, callbacks = [monitor_val_acc_2, modelCheckpoint_2])\n",
    "accuracy_2 = model_1.evaluate(x_test, y_test)[1]\n",
    "print('Accuracy:', accuracy_2)"
   ]
  },
  {
   "cell_type": "code",
   "execution_count": 71,
   "metadata": {},
   "outputs": [
    {
     "name": "stdout",
     "output_type": "stream",
     "text": [
      "_________________________________________________________________\n",
      "Layer (type)                 Output Shape              Param #   \n",
      "=================================================================\n",
      "dense_37 (Dense)             (None, 128)               384       \n",
      "_________________________________________________________________\n",
      "batch_normalization_10 (Batc (None, 128)               512       \n",
      "_________________________________________________________________\n",
      "dense_38 (Dense)             (None, 64)                8256      \n",
      "_________________________________________________________________\n",
      "batch_normalization_11 (Batc (None, 64)                256       \n",
      "_________________________________________________________________\n",
      "dense_39 (Dense)             (None, 32)                2080      \n",
      "_________________________________________________________________\n",
      "batch_normalization_12 (Batc (None, 32)                128       \n",
      "_________________________________________________________________\n",
      "dense_40 (Dense)             (None, 1)                 33        \n",
      "=================================================================\n",
      "Total params: 11,649\n",
      "Trainable params: 11,201\n",
      "Non-trainable params: 448\n",
      "_________________________________________________________________\n"
     ]
    }
   ],
   "source": [
    "\n",
    "\n",
    "norm_model = Sequential()\n",
    "norm_model.add(Dense(128, input_shape = (2, ), activation = \"relu\"))\n",
    "norm_model.add(BatchNormalization())\n",
    "norm_model.add(Dense(64, activation = \"relu\"))\n",
    "norm_model.add(BatchNormalization())\n",
    "norm_model.add(Dense(32, activation = \"relu\"))\n",
    "norm_model.add(BatchNormalization())\n",
    "norm_model.add(Dense(1, activation = \"softmax\"))\n",
    "norm_model.compile(loss = \"binary_crossentropy\", optimizer = \"adam\", metrics = [\"accuracy\"])\n",
    "norm_model.summary()\n",
    "\n"
   ]
  },
  {
   "cell_type": "code",
   "execution_count": 72,
   "metadata": {},
   "outputs": [
    {
     "name": "stdout",
     "output_type": "stream",
     "text": [
      "Train on 27442 samples, validate on 6861 samples\n",
      "Epoch 1/100\n",
      "27442/27442 [==============================] - 8s 296us/step - loss: -254795.1173 - acc: 0.0023 - val_loss: -146233.3395 - val_acc: 0.0019\n",
      "Epoch 2/100\n",
      "27442/27442 [==============================] - 4s 153us/step - loss: -254795.1117 - acc: 0.0023 - val_loss: -146233.3395 - val_acc: 0.0019\n",
      "Epoch 3/100\n",
      "27442/27442 [==============================] - 4s 156us/step - loss: -254795.1123 - acc: 0.0023 - val_loss: -146233.3395 - val_acc: 0.0019\n",
      "Epoch 4/100\n",
      "27442/27442 [==============================] - 5s 200us/step - loss: -254795.1198 - acc: 0.0023 - val_loss: -146233.3395 - val_acc: 0.0019\n",
      "3812/3812 [==============================] - 0s 90us/step\n",
      "Accuracy: 0.0018363064008394543\n"
     ]
    }
   ],
   "source": [
    "\n",
    "\n",
    "monitor_val_acc_3 = EarlyStopping(monitor = \"val_acc\", patience = 3)\n",
    "modelCheckpoint_3 = ModelCheckpoint(\"beer_norm_no_batch.hdf5\", save_best_only = True)\n",
    "\n",
    "history_3 = norm_model.fit(x_train, y_train, epochs = 100, validation_split = 0.2, callbacks = [monitor_val_acc_3, modelCheckpoint_3])\n",
    "accuracy = norm_model.evaluate(x_test, y_test)[1]\n",
    "print('Accuracy:', accuracy)\n",
    "\n"
   ]
  },
  {
   "cell_type": "code",
   "execution_count": null,
   "metadata": {},
   "outputs": [],
   "source": []
  }
 ],
 "metadata": {
  "kernelspec": {
   "display_name": "Python 3",
   "language": "python",
   "name": "python3"
  },
  "language_info": {
   "codemirror_mode": {
    "name": "ipython",
    "version": 3
   },
   "file_extension": ".py",
   "mimetype": "text/x-python",
   "name": "python",
   "nbconvert_exporter": "python",
   "pygments_lexer": "ipython3",
   "version": "3.7.1"
  }
 },
 "nbformat": 4,
 "nbformat_minor": 2
}
